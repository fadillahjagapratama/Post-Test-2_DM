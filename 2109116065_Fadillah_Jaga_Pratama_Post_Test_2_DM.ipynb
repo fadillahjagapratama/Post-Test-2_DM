{
  "nbformat": 4,
  "nbformat_minor": 0,
  "metadata": {
    "colab": {
      "provenance": [],
      "authorship_tag": "ABX9TyPukyNC7aUUjqccImGdO5+x",
      "include_colab_link": true
    },
    "kernelspec": {
      "name": "python3",
      "display_name": "Python 3"
    },
    "language_info": {
      "name": "python"
    }
  },
  "cells": [
    {
      "cell_type": "markdown",
      "metadata": {
        "id": "view-in-github",
        "colab_type": "text"
      },
      "source": [
        "<a href=\"https://colab.research.google.com/github/fadillahjagapratama/Post-Test-2_DM/blob/main/2109116065_Fadillah_Jaga_Pratama_Post_Test_2_DM.ipynb\" target=\"_parent\"><img src=\"https://colab.research.google.com/assets/colab-badge.svg\" alt=\"Open In Colab\"/></a>"
      ]
    },
    {
      "cell_type": "code",
      "execution_count": null,
      "metadata": {
        "id": "mLZr4yVdXnGz"
      },
      "outputs": [],
      "source": [
        "import pandas as pd\n",
        "import numpy as np"
      ]
    },
    {
      "cell_type": "markdown",
      "source": [
        "# (1) Apriori"
      ],
      "metadata": {
        "id": "sW5buKNyX4rR"
      }
    },
    {
      "cell_type": "markdown",
      "source": [
        "Gunakan dataset ini : https://drive.google.com/file/d/1BqC-2d1ZYqFIFwdjdsW5bAAqNFh2AO4C/view?usp=share_link\n",
        "\n",
        "Dan buatlah daftar support dan confidence untuk 2 item set dengan menggunakan dataset tersebut (hint : buatlah tabel tabulasi terlebih dahulu untuk memudahkan)"
      ],
      "metadata": {
        "id": "1SY0HgbQX95A"
      }
    },
    {
      "cell_type": "code",
      "source": [
        "df = pd.read_csv(\"https://raw.githubusercontent.com/fadillahjagapratama/Dataset_DM/main/dataset_market_basket.csv\") # df untuk membaca file dataset dengan method read_csv\n",
        "# Lihat Data Tabular item pada variavel df\n",
        "df"
      ],
      "metadata": {
        "colab": {
          "base_uri": "https://localhost:8080/",
          "height": 613
        },
        "id": "H7KqrSP8YDgo",
        "outputId": "eeda8d33-995e-428f-9fd5-e898361ade34"
      },
      "execution_count": null,
      "outputs": [
        {
          "output_type": "execute_result",
          "data": {
            "text/plain": [
              "                    whole milk,pastry,salty snack\n",
              "0   sausage,whole milk,semi-finished bread,yogurt\n",
              "1                         soda,pickled vegetables\n",
              "2                     canned beer,misc. beverages\n",
              "3                        sausage,hygiene articles\n",
              "4                   sausage,whole milk,rolls/buns\n",
              "5                                 whole milk,soda\n",
              "6             frankfurter,soda,whipped/sour cream\n",
              "7                                frankfurter,curd\n",
              "8                                beef,white bread\n",
              "9                               butter,whole milk\n",
              "10             frozen vegetables,other vegetables\n",
              "11                           tropical fruit,sugar\n",
              "12                butter milk,specialty chocolate\n",
              "13                       frozen meals,dental care\n",
              "14                          rolls/buns,rolls/buns\n",
              "15                      root vegetables,detergent\n",
              "16                             sausage,rolls/buns\n",
              "17                   dish cleaner,cling film/bags"
            ],
            "text/html": [
              "\n",
              "  <div id=\"df-c8acd32c-6027-4a88-b730-910a97233a0b\">\n",
              "    <div class=\"colab-df-container\">\n",
              "      <div>\n",
              "<style scoped>\n",
              "    .dataframe tbody tr th:only-of-type {\n",
              "        vertical-align: middle;\n",
              "    }\n",
              "\n",
              "    .dataframe tbody tr th {\n",
              "        vertical-align: top;\n",
              "    }\n",
              "\n",
              "    .dataframe thead th {\n",
              "        text-align: right;\n",
              "    }\n",
              "</style>\n",
              "<table border=\"1\" class=\"dataframe\">\n",
              "  <thead>\n",
              "    <tr style=\"text-align: right;\">\n",
              "      <th></th>\n",
              "      <th>whole milk,pastry,salty snack</th>\n",
              "    </tr>\n",
              "  </thead>\n",
              "  <tbody>\n",
              "    <tr>\n",
              "      <th>0</th>\n",
              "      <td>sausage,whole milk,semi-finished bread,yogurt</td>\n",
              "    </tr>\n",
              "    <tr>\n",
              "      <th>1</th>\n",
              "      <td>soda,pickled vegetables</td>\n",
              "    </tr>\n",
              "    <tr>\n",
              "      <th>2</th>\n",
              "      <td>canned beer,misc. beverages</td>\n",
              "    </tr>\n",
              "    <tr>\n",
              "      <th>3</th>\n",
              "      <td>sausage,hygiene articles</td>\n",
              "    </tr>\n",
              "    <tr>\n",
              "      <th>4</th>\n",
              "      <td>sausage,whole milk,rolls/buns</td>\n",
              "    </tr>\n",
              "    <tr>\n",
              "      <th>5</th>\n",
              "      <td>whole milk,soda</td>\n",
              "    </tr>\n",
              "    <tr>\n",
              "      <th>6</th>\n",
              "      <td>frankfurter,soda,whipped/sour cream</td>\n",
              "    </tr>\n",
              "    <tr>\n",
              "      <th>7</th>\n",
              "      <td>frankfurter,curd</td>\n",
              "    </tr>\n",
              "    <tr>\n",
              "      <th>8</th>\n",
              "      <td>beef,white bread</td>\n",
              "    </tr>\n",
              "    <tr>\n",
              "      <th>9</th>\n",
              "      <td>butter,whole milk</td>\n",
              "    </tr>\n",
              "    <tr>\n",
              "      <th>10</th>\n",
              "      <td>frozen vegetables,other vegetables</td>\n",
              "    </tr>\n",
              "    <tr>\n",
              "      <th>11</th>\n",
              "      <td>tropical fruit,sugar</td>\n",
              "    </tr>\n",
              "    <tr>\n",
              "      <th>12</th>\n",
              "      <td>butter milk,specialty chocolate</td>\n",
              "    </tr>\n",
              "    <tr>\n",
              "      <th>13</th>\n",
              "      <td>frozen meals,dental care</td>\n",
              "    </tr>\n",
              "    <tr>\n",
              "      <th>14</th>\n",
              "      <td>rolls/buns,rolls/buns</td>\n",
              "    </tr>\n",
              "    <tr>\n",
              "      <th>15</th>\n",
              "      <td>root vegetables,detergent</td>\n",
              "    </tr>\n",
              "    <tr>\n",
              "      <th>16</th>\n",
              "      <td>sausage,rolls/buns</td>\n",
              "    </tr>\n",
              "    <tr>\n",
              "      <th>17</th>\n",
              "      <td>dish cleaner,cling film/bags</td>\n",
              "    </tr>\n",
              "  </tbody>\n",
              "</table>\n",
              "</div>\n",
              "      <button class=\"colab-df-convert\" onclick=\"convertToInteractive('df-c8acd32c-6027-4a88-b730-910a97233a0b')\"\n",
              "              title=\"Convert this dataframe to an interactive table.\"\n",
              "              style=\"display:none;\">\n",
              "        \n",
              "  <svg xmlns=\"http://www.w3.org/2000/svg\" height=\"24px\"viewBox=\"0 0 24 24\"\n",
              "       width=\"24px\">\n",
              "    <path d=\"M0 0h24v24H0V0z\" fill=\"none\"/>\n",
              "    <path d=\"M18.56 5.44l.94 2.06.94-2.06 2.06-.94-2.06-.94-.94-2.06-.94 2.06-2.06.94zm-11 1L8.5 8.5l.94-2.06 2.06-.94-2.06-.94L8.5 2.5l-.94 2.06-2.06.94zm10 10l.94 2.06.94-2.06 2.06-.94-2.06-.94-.94-2.06-.94 2.06-2.06.94z\"/><path d=\"M17.41 7.96l-1.37-1.37c-.4-.4-.92-.59-1.43-.59-.52 0-1.04.2-1.43.59L10.3 9.45l-7.72 7.72c-.78.78-.78 2.05 0 2.83L4 21.41c.39.39.9.59 1.41.59.51 0 1.02-.2 1.41-.59l7.78-7.78 2.81-2.81c.8-.78.8-2.07 0-2.86zM5.41 20L4 18.59l7.72-7.72 1.47 1.35L5.41 20z\"/>\n",
              "  </svg>\n",
              "      </button>\n",
              "      \n",
              "  <style>\n",
              "    .colab-df-container {\n",
              "      display:flex;\n",
              "      flex-wrap:wrap;\n",
              "      gap: 12px;\n",
              "    }\n",
              "\n",
              "    .colab-df-convert {\n",
              "      background-color: #E8F0FE;\n",
              "      border: none;\n",
              "      border-radius: 50%;\n",
              "      cursor: pointer;\n",
              "      display: none;\n",
              "      fill: #1967D2;\n",
              "      height: 32px;\n",
              "      padding: 0 0 0 0;\n",
              "      width: 32px;\n",
              "    }\n",
              "\n",
              "    .colab-df-convert:hover {\n",
              "      background-color: #E2EBFA;\n",
              "      box-shadow: 0px 1px 2px rgba(60, 64, 67, 0.3), 0px 1px 3px 1px rgba(60, 64, 67, 0.15);\n",
              "      fill: #174EA6;\n",
              "    }\n",
              "\n",
              "    [theme=dark] .colab-df-convert {\n",
              "      background-color: #3B4455;\n",
              "      fill: #D2E3FC;\n",
              "    }\n",
              "\n",
              "    [theme=dark] .colab-df-convert:hover {\n",
              "      background-color: #434B5C;\n",
              "      box-shadow: 0px 1px 3px 1px rgba(0, 0, 0, 0.15);\n",
              "      filter: drop-shadow(0px 1px 2px rgba(0, 0, 0, 0.3));\n",
              "      fill: #FFFFFF;\n",
              "    }\n",
              "  </style>\n",
              "\n",
              "      <script>\n",
              "        const buttonEl =\n",
              "          document.querySelector('#df-c8acd32c-6027-4a88-b730-910a97233a0b button.colab-df-convert');\n",
              "        buttonEl.style.display =\n",
              "          google.colab.kernel.accessAllowed ? 'block' : 'none';\n",
              "\n",
              "        async function convertToInteractive(key) {\n",
              "          const element = document.querySelector('#df-c8acd32c-6027-4a88-b730-910a97233a0b');\n",
              "          const dataTable =\n",
              "            await google.colab.kernel.invokeFunction('convertToInteractive',\n",
              "                                                     [key], {});\n",
              "          if (!dataTable) return;\n",
              "\n",
              "          const docLinkHtml = 'Like what you see? Visit the ' +\n",
              "            '<a target=\"_blank\" href=https://colab.research.google.com/notebooks/data_table.ipynb>data table notebook</a>'\n",
              "            + ' to learn more about interactive tables.';\n",
              "          element.innerHTML = '';\n",
              "          dataTable['output_type'] = 'display_data';\n",
              "          await google.colab.output.renderOutput(dataTable, element);\n",
              "          const docLink = document.createElement('div');\n",
              "          docLink.innerHTML = docLinkHtml;\n",
              "          element.appendChild(docLink);\n",
              "        }\n",
              "      </script>\n",
              "    </div>\n",
              "  </div>\n",
              "  "
            ]
          },
          "metadata": {},
          "execution_count": 28
        }
      ]
    },
    {
      "cell_type": "code",
      "source": [
        "df.sum() # hitung jumlah nilai di setiap kolom"
      ],
      "metadata": {
        "colab": {
          "base_uri": "https://localhost:8080/"
        },
        "id": "5tyxmNrkYHJ7",
        "outputId": "a083b62d-df24-492e-ab60-6f77c5766ec0"
      },
      "execution_count": null,
      "outputs": [
        {
          "output_type": "execute_result",
          "data": {
            "text/plain": [
              "whole milk,pastry,salty snack    sausage,whole milk,semi-finished bread,yogurts...\n",
              "dtype: object"
            ]
          },
          "metadata": {},
          "execution_count": 33
        }
      ]
    },
    {
      "cell_type": "code",
      "source": [
        "df.columns # untuk mengetahui kolom yang ada pada dataset"
      ],
      "metadata": {
        "colab": {
          "base_uri": "https://localhost:8080/"
        },
        "id": "o8JAtv8pYJXr",
        "outputId": "cfc34670-a0a1-44f4-d6c3-142a01155c53"
      },
      "execution_count": null,
      "outputs": [
        {
          "output_type": "execute_result",
          "data": {
            "text/plain": [
              "Index(['whole milk,pastry,salty snack'], dtype='object')"
            ]
          },
          "metadata": {},
          "execution_count": 34
        }
      ]
    },
    {
      "cell_type": "code",
      "source": [
        "from itertools import permutations #Library untuk buat kombinasi barang\n",
        "rules = list(permutations(df.columns, 2)) # untuk menyimpan seluruh kemungkinan kombinasi barang\n",
        "rules # untuk menampilkan keseluruhan hasil kombinasi"
      ],
      "metadata": {
        "colab": {
          "base_uri": "https://localhost:8080/"
        },
        "id": "dG0PE8iwYLdt",
        "outputId": "dfb0c1d5-b03f-4b02-9d36-96215a860d3e"
      },
      "execution_count": null,
      "outputs": [
        {
          "output_type": "execute_result",
          "data": {
            "text/plain": [
              "[]"
            ]
          },
          "metadata": {},
          "execution_count": 35
        }
      ]
    },
    {
      "cell_type": "code",
      "source": [
        "# Menghitung kemunculan kombinasi yang ada pada dataset\n",
        "rule_baru = [] # Menyimpan data dalam bentuk list\n",
        "for rule in rules: # Mengulangi pembacaan dataset\n",
        "  if len(df[(df[rule[0]]==1) & (df[rule[1]]==1)]) >0: # Menentukan apakah kombinasi tersebut ada atau tidak\n",
        "    rule_baru.append(rule) # Menyimpan hasil pengecekan dalam bentuk tuple didalam list\n",
        "rule_baru # Menampilkan hasil"
      ],
      "metadata": {
        "colab": {
          "base_uri": "https://localhost:8080/"
        },
        "id": "xzjypMh-YN6v",
        "outputId": "ab3f9fe3-df8e-442e-a51e-42015341a39a"
      },
      "execution_count": null,
      "outputs": [
        {
          "output_type": "execute_result",
          "data": {
            "text/plain": [
              "[]"
            ]
          },
          "metadata": {},
          "execution_count": 36
        }
      ]
    },
    {
      "cell_type": "code",
      "source": [
        "hitung = {} # Menyimpan data dalam bentuk dictionary\n",
        "for rule in rule_baru:  # Mengulangi pembacaan dataset\n",
        "  banyak_data= len(df[\n",
        "      (df[rule[0]]==1) & (df[rule[1]]==1) # Menentukan berapa jumlah kemunculan kombinasi dan menyimpannya dalam sebuah variabel\n",
        "      ])\n",
        "  hitung[str(rule)] = banyak_data # Menambahkan hasil penentuan ke dalam dictionary\n",
        "hitung # Menampilkan hasil"
      ],
      "metadata": {
        "colab": {
          "base_uri": "https://localhost:8080/"
        },
        "id": "Ko-wpk0uYPni",
        "outputId": "e8080ba0-7d44-4aa9-9219-12fd8eb3e848"
      },
      "execution_count": null,
      "outputs": [
        {
          "output_type": "execute_result",
          "data": {
            "text/plain": [
              "{}"
            ]
          },
          "metadata": {},
          "execution_count": 37
        }
      ]
    },
    {
      "cell_type": "code",
      "source": [
        "# Melihat banyak transaksi\n",
        "len(df)"
      ],
      "metadata": {
        "colab": {
          "base_uri": "https://localhost:8080/"
        },
        "id": "gW2Yz0sRYRfz",
        "outputId": "cda43225-d5af-4281-e94f-1810dd74a9b7"
      },
      "execution_count": null,
      "outputs": [
        {
          "output_type": "execute_result",
          "data": {
            "text/plain": [
              "18"
            ]
          },
          "metadata": {},
          "execution_count": 38
        }
      ]
    },
    {
      "cell_type": "code",
      "source": [
        "# List support\n",
        "# \n",
        "for item,ab in hitung.items(): # Untuk melakukan perulangan pembacaan dataset pada tiap - tiap kombinasi itemnya\n",
        "  print(f\"{item} support = {ab/len(df)*100}%\") # Menghitung support pada tiap tiap kombinasi item dan menampilkannya"
      ],
      "metadata": {
        "id": "dEZObWXEYS-6"
      },
      "execution_count": null,
      "outputs": []
    },
    {
      "cell_type": "code",
      "source": [
        "# List Confidens\n",
        "\n",
        "for item,ab in hitung.items(): # Untuk melakukan perulangan pembacaan dataset pada tiap - tiap kombinasi itemnya\n",
        "  #\"A->B\"\n",
        "  i = eval(item) #Ubah ke list dari string\n",
        "  print(f\"{i[0]}->{i[1]}  Confidence = {ab/df[i[0]].sum()*100}%\") # Menghitung confidence pada tiap tiap kombinasi item dan menampilkannya"
      ],
      "metadata": {
        "id": "U983CaUPYV9_"
      },
      "execution_count": null,
      "outputs": []
    },
    {
      "cell_type": "markdown",
      "source": [
        "#(2) KNN\n",
        "\n",
        "Gunakan dataset ini : https://drive.google.com/file/d/1pXAJZZXCXosf0PTJkyogopKaPFxCYl22/view?usp=share_link\n",
        "\n",
        "Kemudian buatlah tabel jarak berdasarkan data berikut ini : \n",
        "\n",
        "![Gambar](data:image/png;base64,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)\n",
        "<!-- 1412 -->"
      ],
      "metadata": {
        "id": "b-faaxfoYajU"
      }
    },
    {
      "cell_type": "markdown",
      "source": [
        "### Collect and Describe Data"
      ],
      "metadata": {
        "id": "hYqFyq8wYmnM"
      }
    },
    {
      "cell_type": "code",
      "source": [
        "df2 = pd.read_csv(\"https://raw.githubusercontent.com/fadillahjagapratama/Dataset_DM/main/deteksi_uang_palsu.csv\")\n",
        "df2"
      ],
      "metadata": {
        "colab": {
          "base_uri": "https://localhost:8080/",
          "height": 363
        },
        "id": "8AffjjxjYpnf",
        "outputId": "ff42d9b1-6f83-4de3-9004-74dd8e301f49"
      },
      "execution_count": null,
      "outputs": [
        {
          "output_type": "execute_result",
          "data": {
            "text/plain": [
              "   is_genuine  diagonal  height_left  height_right  margin_low  margin_up  length\n",
              "0        True    172.06       104.24        103.66        4.24       3.10  113.02\n",
              "1        True    171.66       103.68        103.41        4.35       3.33  113.74\n",
              "2        True    172.23       104.00        103.35        4.43       2.95  113.12\n",
              "3        True    172.07       104.21        103.82        4.29       3.35  113.30\n",
              "4        True    171.79       104.57        104.04        4.26       3.15  113.46\n",
              "5       False    172.00       104.23        104.52        5.76       3.37  110.94\n",
              "6       False    171.56       104.03        103.93        5.47       3.50  111.67\n",
              "7       False    171.90       104.33        104.40        4.70       3.31  112.12\n",
              "8       False    171.84       104.06        104.10        4.87       3.25  111.04\n",
              "9       False    172.11       104.14        104.15        4.84       3.28  110.98"
            ],
            "text/html": [
              "\n",
              "  <div id=\"df-159bbfc9-eca3-4d60-8d9d-d75955be01ac\">\n",
              "    <div class=\"colab-df-container\">\n",
              "      <div>\n",
              "<style scoped>\n",
              "    .dataframe tbody tr th:only-of-type {\n",
              "        vertical-align: middle;\n",
              "    }\n",
              "\n",
              "    .dataframe tbody tr th {\n",
              "        vertical-align: top;\n",
              "    }\n",
              "\n",
              "    .dataframe thead th {\n",
              "        text-align: right;\n",
              "    }\n",
              "</style>\n",
              "<table border=\"1\" class=\"dataframe\">\n",
              "  <thead>\n",
              "    <tr style=\"text-align: right;\">\n",
              "      <th></th>\n",
              "      <th>is_genuine</th>\n",
              "      <th>diagonal</th>\n",
              "      <th>height_left</th>\n",
              "      <th>height_right</th>\n",
              "      <th>margin_low</th>\n",
              "      <th>margin_up</th>\n",
              "      <th>length</th>\n",
              "    </tr>\n",
              "  </thead>\n",
              "  <tbody>\n",
              "    <tr>\n",
              "      <th>0</th>\n",
              "      <td>True</td>\n",
              "      <td>172.06</td>\n",
              "      <td>104.24</td>\n",
              "      <td>103.66</td>\n",
              "      <td>4.24</td>\n",
              "      <td>3.10</td>\n",
              "      <td>113.02</td>\n",
              "    </tr>\n",
              "    <tr>\n",
              "      <th>1</th>\n",
              "      <td>True</td>\n",
              "      <td>171.66</td>\n",
              "      <td>103.68</td>\n",
              "      <td>103.41</td>\n",
              "      <td>4.35</td>\n",
              "      <td>3.33</td>\n",
              "      <td>113.74</td>\n",
              "    </tr>\n",
              "    <tr>\n",
              "      <th>2</th>\n",
              "      <td>True</td>\n",
              "      <td>172.23</td>\n",
              "      <td>104.00</td>\n",
              "      <td>103.35</td>\n",
              "      <td>4.43</td>\n",
              "      <td>2.95</td>\n",
              "      <td>113.12</td>\n",
              "    </tr>\n",
              "    <tr>\n",
              "      <th>3</th>\n",
              "      <td>True</td>\n",
              "      <td>172.07</td>\n",
              "      <td>104.21</td>\n",
              "      <td>103.82</td>\n",
              "      <td>4.29</td>\n",
              "      <td>3.35</td>\n",
              "      <td>113.30</td>\n",
              "    </tr>\n",
              "    <tr>\n",
              "      <th>4</th>\n",
              "      <td>True</td>\n",
              "      <td>171.79</td>\n",
              "      <td>104.57</td>\n",
              "      <td>104.04</td>\n",
              "      <td>4.26</td>\n",
              "      <td>3.15</td>\n",
              "      <td>113.46</td>\n",
              "    </tr>\n",
              "    <tr>\n",
              "      <th>5</th>\n",
              "      <td>False</td>\n",
              "      <td>172.00</td>\n",
              "      <td>104.23</td>\n",
              "      <td>104.52</td>\n",
              "      <td>5.76</td>\n",
              "      <td>3.37</td>\n",
              "      <td>110.94</td>\n",
              "    </tr>\n",
              "    <tr>\n",
              "      <th>6</th>\n",
              "      <td>False</td>\n",
              "      <td>171.56</td>\n",
              "      <td>104.03</td>\n",
              "      <td>103.93</td>\n",
              "      <td>5.47</td>\n",
              "      <td>3.50</td>\n",
              "      <td>111.67</td>\n",
              "    </tr>\n",
              "    <tr>\n",
              "      <th>7</th>\n",
              "      <td>False</td>\n",
              "      <td>171.90</td>\n",
              "      <td>104.33</td>\n",
              "      <td>104.40</td>\n",
              "      <td>4.70</td>\n",
              "      <td>3.31</td>\n",
              "      <td>112.12</td>\n",
              "    </tr>\n",
              "    <tr>\n",
              "      <th>8</th>\n",
              "      <td>False</td>\n",
              "      <td>171.84</td>\n",
              "      <td>104.06</td>\n",
              "      <td>104.10</td>\n",
              "      <td>4.87</td>\n",
              "      <td>3.25</td>\n",
              "      <td>111.04</td>\n",
              "    </tr>\n",
              "    <tr>\n",
              "      <th>9</th>\n",
              "      <td>False</td>\n",
              "      <td>172.11</td>\n",
              "      <td>104.14</td>\n",
              "      <td>104.15</td>\n",
              "      <td>4.84</td>\n",
              "      <td>3.28</td>\n",
              "      <td>110.98</td>\n",
              "    </tr>\n",
              "  </tbody>\n",
              "</table>\n",
              "</div>\n",
              "      <button class=\"colab-df-convert\" onclick=\"convertToInteractive('df-159bbfc9-eca3-4d60-8d9d-d75955be01ac')\"\n",
              "              title=\"Convert this dataframe to an interactive table.\"\n",
              "              style=\"display:none;\">\n",
              "        \n",
              "  <svg xmlns=\"http://www.w3.org/2000/svg\" height=\"24px\"viewBox=\"0 0 24 24\"\n",
              "       width=\"24px\">\n",
              "    <path d=\"M0 0h24v24H0V0z\" fill=\"none\"/>\n",
              "    <path d=\"M18.56 5.44l.94 2.06.94-2.06 2.06-.94-2.06-.94-.94-2.06-.94 2.06-2.06.94zm-11 1L8.5 8.5l.94-2.06 2.06-.94-2.06-.94L8.5 2.5l-.94 2.06-2.06.94zm10 10l.94 2.06.94-2.06 2.06-.94-2.06-.94-.94-2.06-.94 2.06-2.06.94z\"/><path d=\"M17.41 7.96l-1.37-1.37c-.4-.4-.92-.59-1.43-.59-.52 0-1.04.2-1.43.59L10.3 9.45l-7.72 7.72c-.78.78-.78 2.05 0 2.83L4 21.41c.39.39.9.59 1.41.59.51 0 1.02-.2 1.41-.59l7.78-7.78 2.81-2.81c.8-.78.8-2.07 0-2.86zM5.41 20L4 18.59l7.72-7.72 1.47 1.35L5.41 20z\"/>\n",
              "  </svg>\n",
              "      </button>\n",
              "      \n",
              "  <style>\n",
              "    .colab-df-container {\n",
              "      display:flex;\n",
              "      flex-wrap:wrap;\n",
              "      gap: 12px;\n",
              "    }\n",
              "\n",
              "    .colab-df-convert {\n",
              "      background-color: #E8F0FE;\n",
              "      border: none;\n",
              "      border-radius: 50%;\n",
              "      cursor: pointer;\n",
              "      display: none;\n",
              "      fill: #1967D2;\n",
              "      height: 32px;\n",
              "      padding: 0 0 0 0;\n",
              "      width: 32px;\n",
              "    }\n",
              "\n",
              "    .colab-df-convert:hover {\n",
              "      background-color: #E2EBFA;\n",
              "      box-shadow: 0px 1px 2px rgba(60, 64, 67, 0.3), 0px 1px 3px 1px rgba(60, 64, 67, 0.15);\n",
              "      fill: #174EA6;\n",
              "    }\n",
              "\n",
              "    [theme=dark] .colab-df-convert {\n",
              "      background-color: #3B4455;\n",
              "      fill: #D2E3FC;\n",
              "    }\n",
              "\n",
              "    [theme=dark] .colab-df-convert:hover {\n",
              "      background-color: #434B5C;\n",
              "      box-shadow: 0px 1px 3px 1px rgba(0, 0, 0, 0.15);\n",
              "      filter: drop-shadow(0px 1px 2px rgba(0, 0, 0, 0.3));\n",
              "      fill: #FFFFFF;\n",
              "    }\n",
              "  </style>\n",
              "\n",
              "      <script>\n",
              "        const buttonEl =\n",
              "          document.querySelector('#df-159bbfc9-eca3-4d60-8d9d-d75955be01ac button.colab-df-convert');\n",
              "        buttonEl.style.display =\n",
              "          google.colab.kernel.accessAllowed ? 'block' : 'none';\n",
              "\n",
              "        async function convertToInteractive(key) {\n",
              "          const element = document.querySelector('#df-159bbfc9-eca3-4d60-8d9d-d75955be01ac');\n",
              "          const dataTable =\n",
              "            await google.colab.kernel.invokeFunction('convertToInteractive',\n",
              "                                                     [key], {});\n",
              "          if (!dataTable) return;\n",
              "\n",
              "          const docLinkHtml = 'Like what you see? Visit the ' +\n",
              "            '<a target=\"_blank\" href=https://colab.research.google.com/notebooks/data_table.ipynb>data table notebook</a>'\n",
              "            + ' to learn more about interactive tables.';\n",
              "          element.innerHTML = '';\n",
              "          dataTable['output_type'] = 'display_data';\n",
              "          await google.colab.output.renderOutput(dataTable, element);\n",
              "          const docLink = document.createElement('div');\n",
              "          docLink.innerHTML = docLinkHtml;\n",
              "          element.appendChild(docLink);\n",
              "        }\n",
              "      </script>\n",
              "    </div>\n",
              "  </div>\n",
              "  "
            ]
          },
          "metadata": {},
          "execution_count": 42
        }
      ]
    },
    {
      "cell_type": "markdown",
      "source": [
        "### 1. Membuat tabel jarak berdasarkan data baru yang ingin ditambahkan"
      ],
      "metadata": {
        "id": "-52xidC3YtGr"
      }
    },
    {
      "cell_type": "code",
      "source": [
        "# Membuat tabel jarak berdasarkan data baru yang ingin ditambahkan\n",
        "\n",
        "from sklearn.metrics.pairwise import euclidean_distances\n",
        "\n",
        "# membuat dataframe dari data baru\n",
        "new_data = pd.DataFrame({'diagonal'    : [172.25],\n",
        "                         'height_left' : [103.94],\n",
        "                         'height_right': [103.68],\n",
        "                         'margin_low'  : [4.14],\n",
        "                         'margin_up'   : [3.25],\n",
        "                         'length'      : [112.48]})\n",
        "\n",
        "# Menghitung jarak antara setiap baris dataframe utama dengan dataframe data baru\n",
        "df2['distance'] = euclidean_distances(df2[['diagonal', 'height_left', 'height_right', 'margin_low', 'margin_up', 'length']], new_data)\n",
        "\n",
        "# Menampilkan tabel jarak\n",
        "print('Tabel Jarak : ')\n",
        "print(df2['distance'])\n"
      ],
      "metadata": {
        "colab": {
          "base_uri": "https://localhost:8080/"
        },
        "id": "zbvVTdybYuXi",
        "outputId": "2fb97733-21f2-4df4-d81e-7371ad91946c"
      },
      "execution_count": null,
      "outputs": [
        {
          "output_type": "stream",
          "name": "stdout",
          "text": [
            "Tabel Jarak : \n",
            "0    0.671267\n",
            "1    1.458321\n",
            "2    0.834626\n",
            "3    0.910934\n",
            "4    1.312593\n",
            "5    2.421281\n",
            "6    1.741896\n",
            "7    1.113463\n",
            "8    1.722034\n",
            "9    1.738217\n",
            "Name: distance, dtype: float64\n"
          ]
        }
      ]
    },
    {
      "cell_type": "markdown",
      "source": [
        "### 1. Menambahkan Kolom Jarak"
      ],
      "metadata": {
        "id": "UjMhYBDjYwxC"
      }
    },
    {
      "cell_type": "code",
      "source": [
        "# setting pandas agar bisa menampilkan seluruh kolom dibaris yang sesuai\n",
        "pd.set_option('display.max_columns', None)\n",
        "\n",
        "# Mengatur lebar tabel menjadi 200\n",
        "pd.set_option('display.width', 200)\n",
        "\n",
        "df2"
      ],
      "metadata": {
        "colab": {
          "base_uri": "https://localhost:8080/",
          "height": 363
        },
        "id": "z5MFUa5UY0dV",
        "outputId": "75408595-bb55-489c-81e4-3e692b7b2adf"
      },
      "execution_count": null,
      "outputs": [
        {
          "output_type": "execute_result",
          "data": {
            "text/plain": [
              "   is_genuine  diagonal  height_left  height_right  margin_low  margin_up  length  distance\n",
              "0        True    172.06       104.24        103.66        4.24       3.10  113.02  0.671267\n",
              "1        True    171.66       103.68        103.41        4.35       3.33  113.74  1.458321\n",
              "2        True    172.23       104.00        103.35        4.43       2.95  113.12  0.834626\n",
              "3        True    172.07       104.21        103.82        4.29       3.35  113.30  0.910934\n",
              "4        True    171.79       104.57        104.04        4.26       3.15  113.46  1.312593\n",
              "5       False    172.00       104.23        104.52        5.76       3.37  110.94  2.421281\n",
              "6       False    171.56       104.03        103.93        5.47       3.50  111.67  1.741896\n",
              "7       False    171.90       104.33        104.40        4.70       3.31  112.12  1.113463\n",
              "8       False    171.84       104.06        104.10        4.87       3.25  111.04  1.722034\n",
              "9       False    172.11       104.14        104.15        4.84       3.28  110.98  1.738217"
            ],
            "text/html": [
              "\n",
              "  <div id=\"df-bd02d73e-d252-4146-9a00-00a0c68b5fb6\">\n",
              "    <div class=\"colab-df-container\">\n",
              "      <div>\n",
              "<style scoped>\n",
              "    .dataframe tbody tr th:only-of-type {\n",
              "        vertical-align: middle;\n",
              "    }\n",
              "\n",
              "    .dataframe tbody tr th {\n",
              "        vertical-align: top;\n",
              "    }\n",
              "\n",
              "    .dataframe thead th {\n",
              "        text-align: right;\n",
              "    }\n",
              "</style>\n",
              "<table border=\"1\" class=\"dataframe\">\n",
              "  <thead>\n",
              "    <tr style=\"text-align: right;\">\n",
              "      <th></th>\n",
              "      <th>is_genuine</th>\n",
              "      <th>diagonal</th>\n",
              "      <th>height_left</th>\n",
              "      <th>height_right</th>\n",
              "      <th>margin_low</th>\n",
              "      <th>margin_up</th>\n",
              "      <th>length</th>\n",
              "      <th>distance</th>\n",
              "    </tr>\n",
              "  </thead>\n",
              "  <tbody>\n",
              "    <tr>\n",
              "      <th>0</th>\n",
              "      <td>True</td>\n",
              "      <td>172.06</td>\n",
              "      <td>104.24</td>\n",
              "      <td>103.66</td>\n",
              "      <td>4.24</td>\n",
              "      <td>3.10</td>\n",
              "      <td>113.02</td>\n",
              "      <td>0.671267</td>\n",
              "    </tr>\n",
              "    <tr>\n",
              "      <th>1</th>\n",
              "      <td>True</td>\n",
              "      <td>171.66</td>\n",
              "      <td>103.68</td>\n",
              "      <td>103.41</td>\n",
              "      <td>4.35</td>\n",
              "      <td>3.33</td>\n",
              "      <td>113.74</td>\n",
              "      <td>1.458321</td>\n",
              "    </tr>\n",
              "    <tr>\n",
              "      <th>2</th>\n",
              "      <td>True</td>\n",
              "      <td>172.23</td>\n",
              "      <td>104.00</td>\n",
              "      <td>103.35</td>\n",
              "      <td>4.43</td>\n",
              "      <td>2.95</td>\n",
              "      <td>113.12</td>\n",
              "      <td>0.834626</td>\n",
              "    </tr>\n",
              "    <tr>\n",
              "      <th>3</th>\n",
              "      <td>True</td>\n",
              "      <td>172.07</td>\n",
              "      <td>104.21</td>\n",
              "      <td>103.82</td>\n",
              "      <td>4.29</td>\n",
              "      <td>3.35</td>\n",
              "      <td>113.30</td>\n",
              "      <td>0.910934</td>\n",
              "    </tr>\n",
              "    <tr>\n",
              "      <th>4</th>\n",
              "      <td>True</td>\n",
              "      <td>171.79</td>\n",
              "      <td>104.57</td>\n",
              "      <td>104.04</td>\n",
              "      <td>4.26</td>\n",
              "      <td>3.15</td>\n",
              "      <td>113.46</td>\n",
              "      <td>1.312593</td>\n",
              "    </tr>\n",
              "    <tr>\n",
              "      <th>5</th>\n",
              "      <td>False</td>\n",
              "      <td>172.00</td>\n",
              "      <td>104.23</td>\n",
              "      <td>104.52</td>\n",
              "      <td>5.76</td>\n",
              "      <td>3.37</td>\n",
              "      <td>110.94</td>\n",
              "      <td>2.421281</td>\n",
              "    </tr>\n",
              "    <tr>\n",
              "      <th>6</th>\n",
              "      <td>False</td>\n",
              "      <td>171.56</td>\n",
              "      <td>104.03</td>\n",
              "      <td>103.93</td>\n",
              "      <td>5.47</td>\n",
              "      <td>3.50</td>\n",
              "      <td>111.67</td>\n",
              "      <td>1.741896</td>\n",
              "    </tr>\n",
              "    <tr>\n",
              "      <th>7</th>\n",
              "      <td>False</td>\n",
              "      <td>171.90</td>\n",
              "      <td>104.33</td>\n",
              "      <td>104.40</td>\n",
              "      <td>4.70</td>\n",
              "      <td>3.31</td>\n",
              "      <td>112.12</td>\n",
              "      <td>1.113463</td>\n",
              "    </tr>\n",
              "    <tr>\n",
              "      <th>8</th>\n",
              "      <td>False</td>\n",
              "      <td>171.84</td>\n",
              "      <td>104.06</td>\n",
              "      <td>104.10</td>\n",
              "      <td>4.87</td>\n",
              "      <td>3.25</td>\n",
              "      <td>111.04</td>\n",
              "      <td>1.722034</td>\n",
              "    </tr>\n",
              "    <tr>\n",
              "      <th>9</th>\n",
              "      <td>False</td>\n",
              "      <td>172.11</td>\n",
              "      <td>104.14</td>\n",
              "      <td>104.15</td>\n",
              "      <td>4.84</td>\n",
              "      <td>3.28</td>\n",
              "      <td>110.98</td>\n",
              "      <td>1.738217</td>\n",
              "    </tr>\n",
              "  </tbody>\n",
              "</table>\n",
              "</div>\n",
              "      <button class=\"colab-df-convert\" onclick=\"convertToInteractive('df-bd02d73e-d252-4146-9a00-00a0c68b5fb6')\"\n",
              "              title=\"Convert this dataframe to an interactive table.\"\n",
              "              style=\"display:none;\">\n",
              "        \n",
              "  <svg xmlns=\"http://www.w3.org/2000/svg\" height=\"24px\"viewBox=\"0 0 24 24\"\n",
              "       width=\"24px\">\n",
              "    <path d=\"M0 0h24v24H0V0z\" fill=\"none\"/>\n",
              "    <path d=\"M18.56 5.44l.94 2.06.94-2.06 2.06-.94-2.06-.94-.94-2.06-.94 2.06-2.06.94zm-11 1L8.5 8.5l.94-2.06 2.06-.94-2.06-.94L8.5 2.5l-.94 2.06-2.06.94zm10 10l.94 2.06.94-2.06 2.06-.94-2.06-.94-.94-2.06-.94 2.06-2.06.94z\"/><path d=\"M17.41 7.96l-1.37-1.37c-.4-.4-.92-.59-1.43-.59-.52 0-1.04.2-1.43.59L10.3 9.45l-7.72 7.72c-.78.78-.78 2.05 0 2.83L4 21.41c.39.39.9.59 1.41.59.51 0 1.02-.2 1.41-.59l7.78-7.78 2.81-2.81c.8-.78.8-2.07 0-2.86zM5.41 20L4 18.59l7.72-7.72 1.47 1.35L5.41 20z\"/>\n",
              "  </svg>\n",
              "      </button>\n",
              "      \n",
              "  <style>\n",
              "    .colab-df-container {\n",
              "      display:flex;\n",
              "      flex-wrap:wrap;\n",
              "      gap: 12px;\n",
              "    }\n",
              "\n",
              "    .colab-df-convert {\n",
              "      background-color: #E8F0FE;\n",
              "      border: none;\n",
              "      border-radius: 50%;\n",
              "      cursor: pointer;\n",
              "      display: none;\n",
              "      fill: #1967D2;\n",
              "      height: 32px;\n",
              "      padding: 0 0 0 0;\n",
              "      width: 32px;\n",
              "    }\n",
              "\n",
              "    .colab-df-convert:hover {\n",
              "      background-color: #E2EBFA;\n",
              "      box-shadow: 0px 1px 2px rgba(60, 64, 67, 0.3), 0px 1px 3px 1px rgba(60, 64, 67, 0.15);\n",
              "      fill: #174EA6;\n",
              "    }\n",
              "\n",
              "    [theme=dark] .colab-df-convert {\n",
              "      background-color: #3B4455;\n",
              "      fill: #D2E3FC;\n",
              "    }\n",
              "\n",
              "    [theme=dark] .colab-df-convert:hover {\n",
              "      background-color: #434B5C;\n",
              "      box-shadow: 0px 1px 3px 1px rgba(0, 0, 0, 0.15);\n",
              "      filter: drop-shadow(0px 1px 2px rgba(0, 0, 0, 0.3));\n",
              "      fill: #FFFFFF;\n",
              "    }\n",
              "  </style>\n",
              "\n",
              "      <script>\n",
              "        const buttonEl =\n",
              "          document.querySelector('#df-bd02d73e-d252-4146-9a00-00a0c68b5fb6 button.colab-df-convert');\n",
              "        buttonEl.style.display =\n",
              "          google.colab.kernel.accessAllowed ? 'block' : 'none';\n",
              "\n",
              "        async function convertToInteractive(key) {\n",
              "          const element = document.querySelector('#df-bd02d73e-d252-4146-9a00-00a0c68b5fb6');\n",
              "          const dataTable =\n",
              "            await google.colab.kernel.invokeFunction('convertToInteractive',\n",
              "                                                     [key], {});\n",
              "          if (!dataTable) return;\n",
              "\n",
              "          const docLinkHtml = 'Like what you see? Visit the ' +\n",
              "            '<a target=\"_blank\" href=https://colab.research.google.com/notebooks/data_table.ipynb>data table notebook</a>'\n",
              "            + ' to learn more about interactive tables.';\n",
              "          element.innerHTML = '';\n",
              "          dataTable['output_type'] = 'display_data';\n",
              "          await google.colab.output.renderOutput(dataTable, element);\n",
              "          const docLink = document.createElement('div');\n",
              "          docLink.innerHTML = docLinkHtml;\n",
              "          element.appendChild(docLink);\n",
              "        }\n",
              "      </script>\n",
              "    </div>\n",
              "  </div>\n",
              "  "
            ]
          },
          "metadata": {},
          "execution_count": 44
        }
      ]
    },
    {
      "cell_type": "markdown",
      "source": [
        "### 2. Mengurutkan data berdasarkan K jarak terdekat (dengan k = akar 2 dari banyak data)"
      ],
      "metadata": {
        "id": "3nB5RRRuY4Si"
      }
    },
    {
      "cell_type": "code",
      "source": [
        "# Menghitung jarak antara setiap baris dataframe utama dengan dataframe data baru\n",
        "df2['distance'] = np.sqrt(\n",
        "    (df2['diagonal'] - 172.25)**2\n",
        "    + (df2['height_left'] - 103.94)**2\n",
        "    + (df2['height_right'] - 103.68)**2\n",
        "    + (df2['margin_low'] - 4.14)**2\n",
        "    + (df2['margin_up'] - 3.25)**2\n",
        "    + (df2['length'] - 112.48)**2\n",
        ")\n",
        "\n",
        "# Mengurutkan data dari kecil ke besar dan menentukan data terdekat\n",
        "k = int(np.sqrt(len(df2)))\n",
        "data_terdekat = df2.sort_values('distance').head(k)\n",
        "\n",
        "# Menampilkan data terdekat\n",
        "print(data_terdekat)\n"
      ],
      "metadata": {
        "colab": {
          "base_uri": "https://localhost:8080/"
        },
        "id": "2BFX66LnY6On",
        "outputId": "316f2b6a-8fed-4b50-f7bd-37c3bdf39a3d"
      },
      "execution_count": null,
      "outputs": [
        {
          "output_type": "stream",
          "name": "stdout",
          "text": [
            "   is_genuine  diagonal  height_left  height_right  margin_low  margin_up  length  distance\n",
            "0        True    172.06       104.24        103.66        4.24       3.10  113.02  0.671267\n",
            "2        True    172.23       104.00        103.35        4.43       2.95  113.12  0.834626\n",
            "3        True    172.07       104.21        103.82        4.29       3.35  113.30  0.910934\n"
          ]
        }
      ]
    },
    {
      "cell_type": "markdown",
      "source": [
        "### 3.  Menentukan hasil prediksi berdasarkan label terbanyak"
      ],
      "metadata": {
        "id": "efHZP7wZY8qu"
      }
    },
    {
      "cell_type": "code",
      "source": [
        "# Mengimpor library sklearn untuk menggunakan algoritma KNN\n",
        "from sklearn.neighbors import KNeighborsClassifier\n",
        "\n",
        "# Split data menjadi data training dan data testing\n",
        "X_train = df2.drop(columns=['is_genuine','distance'],axis=1)\n",
        "y_train = df2['is_genuine']\n",
        "\n",
        "# inisiasi data baru menjadi data tes\n",
        "test_data = new_data\n",
        "\n",
        "# membuat variabel knn yang berisikan algoritma KNN dengan nilai K = akar 2 dari banyak data\n",
        "knn = KNeighborsClassifier(n_neighbors=k)\n",
        "\n",
        "# melatih knn dengan data training\n",
        "knn.fit(X_train, y_train)\n",
        "\n",
        "# memprediksi hasil\n",
        "prediksi = knn.predict(test_data)\n",
        "\n",
        "print(\"Berdasarkan jawaban nomor 2, maka hasil prediksinya adalah : True \")\n",
        "print(\"Berdasarkan penggunaan library sklearn untuk memprediksi menggunakan Algoritma KNN, hasilnya adalah : \"+ ' '.join(map(str, prediksi)))"
      ],
      "metadata": {
        "colab": {
          "base_uri": "https://localhost:8080/"
        },
        "id": "12Z0ffcpY-m8",
        "outputId": "f0e93cdc-e126-4758-a96b-38c8c9cabb1a"
      },
      "execution_count": null,
      "outputs": [
        {
          "output_type": "stream",
          "name": "stdout",
          "text": [
            "Berdasarkan jawaban nomor 2, maka hasil prediksinya adalah : True \n",
            "Berdasarkan penggunaan library sklearn untuk memprediksi menggunakan Algoritma KNN, hasilnya adalah : True\n"
          ]
        }
      ]
    },
    {
      "cell_type": "markdown",
      "source": [
        "\n",
        "\n",
        "\n",
        "# (3) Analisis"
      ],
      "metadata": {
        "id": "k8D2KKIHZDMH"
      }
    },
    {
      "cell_type": "markdown",
      "source": [
        "> Nama : Fadillah Jaga Pratama\n",
        "\n",
        "> Nim : 2109116065\n"
      ],
      "metadata": {
        "id": "rzgD43KsZGsg"
      }
    },
    {
      "cell_type": "code",
      "source": [
        "! pip install pillow"
      ],
      "metadata": {
        "colab": {
          "base_uri": "https://localhost:8080/"
        },
        "id": "jaPnaQ9OHo7l",
        "outputId": "91a2028a-3301-4185-ba21-0f818ee66133"
      },
      "execution_count": null,
      "outputs": [
        {
          "output_type": "stream",
          "name": "stdout",
          "text": [
            "Looking in indexes: https://pypi.org/simple, https://us-python.pkg.dev/colab-wheels/public/simple/\n",
            "Requirement already satisfied: pillow in /usr/local/lib/python3.9/dist-packages (8.4.0)\n"
          ]
        }
      ]
    },
    {
      "cell_type": "markdown",
      "source": [
        "Penjelasan posttest : \n",
        "\n",
        "Pilihlah salah satu tema dari daftar tema ini :  \n",
        "1. Perbankan\n",
        "2. Kesehatan\n",
        "3. Ritel\n",
        "4. Pendidkan\n",
        "\n",
        "Kemudian lakukan analisis dengan menggunakan struktur CRISP-DM\n",
        "\n",
        "Dimulai dari Business Understanding Hingga Data Preparation "
      ],
      "metadata": {
        "id": "SbOQZ-0wZNxp"
      }
    },
    {
      "cell_type": "code",
      "source": [
        "from PIL import Image\n",
        "img = Image.open('DatMin.png')\n",
        "img"
      ],
      "metadata": {
        "colab": {
          "base_uri": "https://localhost:8080/",
          "height": 423
        },
        "id": "atftDpBeIHsR",
        "outputId": "8fcd4551-f40f-4bdb-ede0-d51ee02c3d6f"
      },
      "execution_count": null,
      "outputs": [
        {
          "output_type": "execute_result",
          "data": {
            "text/plain": [
              "<PIL.PngImagePlugin.PngImageFile image mode=RGB size=649x406 at 0x7FC1A1FFA130>"
            ],
            "image/png": "[encoded data removed]"
          },
          "metadata": {},
          "execution_count": 26
        }
      ]
    },
    {
      "cell_type": "markdown",
      "source": [
        "Tentukan judul dengan ketentuan setiap orang di kelas beda-beda judulnya dan sumber datasetnya (contoh bisa prediksi atau aturan asosiasi)\n",
        "\n",
        "Catatan : Tugas ini akan berhubungan dengan posttest terakhir (pertemuan 6)"
      ],
      "metadata": {
        "id": "P53Gz709IEb9"
      }
    },
    {
      "cell_type": "markdown",
      "source": [
        "# Analisis"
      ],
      "metadata": {
        "id": "jOkT2h5SZQzq"
      }
    },
    {
      "cell_type": "markdown",
      "source": [
        "### Judul : Cause of Death in Indonesia\n",
        "### Business Understanding\n",
        "\n",
        "Indonesia adalah negara dengan populasi terbesar keempat di dunia, dengan populasi mencapai lebih dari 270 juta jiwa pada tahun 2021. Oleh karena itu, masalah kesehatan masyarakat menjadi isu yang sangat penting di Indonesia. Untuk memahami masalah kesehatan masyarakat di Indonesia, penting untuk memahami penyebab kematian di Indonesia.\n",
        "\n",
        "Dataset \"Cause of Death in Indonesia\" di Kaggle berisi data tentang penyebab kematian di Indonesia selama periode 2010-2019. Dataset ini dapat memberikan wawasan yang bermanfaat untuk berbagai pemangku kepentingan, seperti pemerintah, rumah sakit, lembaga kesehatan, dan masyarakat umum.\n",
        "\n",
        "Pemerintah dapat menggunakan data ini untuk merencanakan kebijakan kesehatan dan program pencegahan penyakit yang lebih efektif. Rumah sakit dan lembaga kesehatan dapat menggunakan data ini untuk memahami tren penyakit dan kematian di wilayah mereka dan memperbaiki praktik klinis mereka. Masyarakat umum dapat menggunakan data ini untuk memahami penyakit apa yang paling banyak mempengaruhi kesehatan masyarakat dan mengambil tindakan preventif yang tepat.\n",
        "\n",
        "Analisis data ini dapat memberikan wawasan tentang penyebab kematian di Indonesia selama periode 2010-2019. Dalam analisis data ini, dapat diidentifikasi tren penyakit dan perbedaan antara jenis kelamin, kelompok umur, dan wilayah geografis.\n",
        "\n",
        "*   Goals Perusahaan : Memberikan informasi yang akurat dan terkini  mengenai penyebab kematian di Indonesia, membantu para peneliti dan ahli kesehatan dalam memahami dan mengidentifikasi tren dan pola dalam kematian penduduk Indonesia, dan menyediakan data yang diperlukan bagi pemerintah dan organisasi non-pemerintah untuk merencanakan dan melaksanakan program kesehatan yang tepat sasaran dan efektif.\n",
        "\n",
        "*   Tujuan Penggunaan DM : Mengidentifikasi faktor-faktor yang berkontribusi terhadap penyebab kematian tertentu, menemukan korelasi antara faktor-faktor tersebut dengan penyebab kematian, membantu dalam membuat prediksi tentang kemungkinan penyebab kematian yang lebih tinggi pada kelompok populasi tertentu, dan memberikan informasi yang dapat membantu dalam perencanaan program kesehatan yang lebih efektif dan tepat sasaran.\n",
        "\n",
        "\n",
        "\n"
      ],
      "metadata": {
        "id": "wWaIahxIZR8f"
      }
    },
    {
      "cell_type": "markdown",
      "source": [
        "### Data Understanding"
      ],
      "metadata": {
        "id": "V3DU33eAZZFi"
      }
    },
    {
      "cell_type": "markdown",
      "source": [
        "#### Collect Data"
      ],
      "metadata": {
        "id": "6EylQfSfZbbL"
      }
    },
    {
      "cell_type": "code",
      "source": [
        "df3 = pd.read_csv('https://raw.githubusercontent.com/fadillahjagapratama/Dataset_DM/main/Penyebab%20Kematian%20di%20Indonesia%20yang%20Dilaporkan%20-%20Raw.csv')"
      ],
      "metadata": {
        "id": "O89PJ_W-Zeb0"
      },
      "execution_count": null,
      "outputs": []
    },
    {
      "cell_type": "markdown",
      "source": [
        "#### Describe Data"
      ],
      "metadata": {
        "id": "TVX5BotMZihI"
      }
    },
    {
      "cell_type": "code",
      "source": [
        "df3"
      ],
      "metadata": {
        "colab": {
          "base_uri": "https://localhost:8080/",
          "height": 658
        },
        "id": "hKbcrT4mZlv2",
        "outputId": "78f7b223-5684-40af-fa4d-ad0b0c814ba2"
      },
      "execution_count": null,
      "outputs": [
        {
          "output_type": "execute_result",
          "data": {
            "text/plain": [
              "                         Cause                           Type  Year  Data Redundancy  Total Deaths                                 Source Page at Source  \\\n",
              "0              Abrasi Air Laut                   Bencana Alam  2012                1             0  Profil Kesehatan Indonesia Tahun 2012  Lampiran 3.38   \n",
              "1                         AIDS  Bencana Non Alam dan Penyakit  2000                1            47  Profil Kesehatan Indonesia Tahun 2004             78   \n",
              "2                         AIDS  Bencana Non Alam dan Penyakit  2001                1            99  Profil Kesehatan Indonesia Tahun 2004             78   \n",
              "3                         AIDS  Bencana Non Alam dan Penyakit  2002                1           100  Profil Kesehatan Indonesia Tahun 2004             78   \n",
              "4                         AIDS  Bencana Non Alam dan Penyakit  2003                5           261  Profil Kesehatan Indonesia Tahun 2004             78   \n",
              "...                        ...                            ...   ...              ...           ...                                    ...            ...   \n",
              "1057  Wabah Penyakit (Epidemi)  Bencana Non Alam dan Penyakit  2016                1             0  Profil Kesehatan Indonesia Tahun 2016  Lampiran 6.37   \n",
              "1058  Wabah Penyakit (Epidemi)  Bencana Non Alam dan Penyakit  2017                1             0  Profil Kesehatan Indonesia Tahun 2017  Lampiran 6.43   \n",
              "1059  Wabah Penyakit (Epidemi)  Bencana Non Alam dan Penyakit  2019                1             0  Profil Kesehatan Indonesia Tahun 2019  Lampiran 63.c   \n",
              "1060  Wabah Penyakit (Epidemi)  Bencana Non Alam dan Penyakit  2020                1             0  Profil Kesehatan Indonesia Tahun 2020            191   \n",
              "1061  Wabah Penyakit (Epidemi)  Bencana Non Alam dan Penyakit  2021                1             0  Profil Kesehatan Indonesia Tahun 2021            253   \n",
              "\n",
              "                                             Source URL  \n",
              "0     https://pusdatin.kemkes.go.id/download.php?fil...  \n",
              "1     https://pusdatin.kemkes.go.id/download.php?fil...  \n",
              "2     https://pusdatin.kemkes.go.id/download.php?fil...  \n",
              "3     https://pusdatin.kemkes.go.id/download.php?fil...  \n",
              "4     https://pusdatin.kemkes.go.id/download.php?fil...  \n",
              "...                                                 ...  \n",
              "1057  https://pusdatin.kemkes.go.id/download.php?fil...  \n",
              "1058  https://pusdatin.kemkes.go.id/download.php?fil...  \n",
              "1059  https://pusdatin.kemkes.go.id/download.php?fil...  \n",
              "1060  https://pusdatin.kemkes.go.id/download.php?fil...  \n",
              "1061  https://www.kemkes.go.id/downloads/resources/d...  \n",
              "\n",
              "[1062 rows x 8 columns]"
            ],
            "text/html": [
              "\n",
              "  <div id=\"df-ec4d5312-6688-439d-9b9b-6e1923cdd23d\">\n",
              "    <div class=\"colab-df-container\">\n",
              "      <div>\n",
              "<style scoped>\n",
              "    .dataframe tbody tr th:only-of-type {\n",
              "        vertical-align: middle;\n",
              "    }\n",
              "\n",
              "    .dataframe tbody tr th {\n",
              "        vertical-align: top;\n",
              "    }\n",
              "\n",
              "    .dataframe thead th {\n",
              "        text-align: right;\n",
              "    }\n",
              "</style>\n",
              "<table border=\"1\" class=\"dataframe\">\n",
              "  <thead>\n",
              "    <tr style=\"text-align: right;\">\n",
              "      <th></th>\n",
              "      <th>Cause</th>\n",
              "      <th>Type</th>\n",
              "      <th>Year</th>\n",
              "      <th>Data Redundancy</th>\n",
              "      <th>Total Deaths</th>\n",
              "      <th>Source</th>\n",
              "      <th>Page at Source</th>\n",
              "      <th>Source URL</th>\n",
              "    </tr>\n",
              "  </thead>\n",
              "  <tbody>\n",
              "    <tr>\n",
              "      <th>0</th>\n",
              "      <td>Abrasi Air Laut</td>\n",
              "      <td>Bencana Alam</td>\n",
              "      <td>2012</td>\n",
              "      <td>1</td>\n",
              "      <td>0</td>\n",
              "      <td>Profil Kesehatan Indonesia Tahun 2012</td>\n",
              "      <td>Lampiran 3.38</td>\n",
              "      <td>https://pusdatin.kemkes.go.id/download.php?fil...</td>\n",
              "    </tr>\n",
              "    <tr>\n",
              "      <th>1</th>\n",
              "      <td>AIDS</td>\n",
              "      <td>Bencana Non Alam dan Penyakit</td>\n",
              "      <td>2000</td>\n",
              "      <td>1</td>\n",
              "      <td>47</td>\n",
              "      <td>Profil Kesehatan Indonesia Tahun 2004</td>\n",
              "      <td>78</td>\n",
              "      <td>https://pusdatin.kemkes.go.id/download.php?fil...</td>\n",
              "    </tr>\n",
              "    <tr>\n",
              "      <th>2</th>\n",
              "      <td>AIDS</td>\n",
              "      <td>Bencana Non Alam dan Penyakit</td>\n",
              "      <td>2001</td>\n",
              "      <td>1</td>\n",
              "      <td>99</td>\n",
              "      <td>Profil Kesehatan Indonesia Tahun 2004</td>\n",
              "      <td>78</td>\n",
              "      <td>https://pusdatin.kemkes.go.id/download.php?fil...</td>\n",
              "    </tr>\n",
              "    <tr>\n",
              "      <th>3</th>\n",
              "      <td>AIDS</td>\n",
              "      <td>Bencana Non Alam dan Penyakit</td>\n",
              "      <td>2002</td>\n",
              "      <td>1</td>\n",
              "      <td>100</td>\n",
              "      <td>Profil Kesehatan Indonesia Tahun 2004</td>\n",
              "      <td>78</td>\n",
              "      <td>https://pusdatin.kemkes.go.id/download.php?fil...</td>\n",
              "    </tr>\n",
              "    <tr>\n",
              "      <th>4</th>\n",
              "      <td>AIDS</td>\n",
              "      <td>Bencana Non Alam dan Penyakit</td>\n",
              "      <td>2003</td>\n",
              "      <td>5</td>\n",
              "      <td>261</td>\n",
              "      <td>Profil Kesehatan Indonesia Tahun 2004</td>\n",
              "      <td>78</td>\n",
              "      <td>https://pusdatin.kemkes.go.id/download.php?fil...</td>\n",
              "    </tr>\n",
              "    <tr>\n",
              "      <th>...</th>\n",
              "      <td>...</td>\n",
              "      <td>...</td>\n",
              "      <td>...</td>\n",
              "      <td>...</td>\n",
              "      <td>...</td>\n",
              "      <td>...</td>\n",
              "      <td>...</td>\n",
              "      <td>...</td>\n",
              "    </tr>\n",
              "    <tr>\n",
              "      <th>1057</th>\n",
              "      <td>Wabah Penyakit (Epidemi)</td>\n",
              "      <td>Bencana Non Alam dan Penyakit</td>\n",
              "      <td>2016</td>\n",
              "      <td>1</td>\n",
              "      <td>0</td>\n",
              "      <td>Profil Kesehatan Indonesia Tahun 2016</td>\n",
              "      <td>Lampiran 6.37</td>\n",
              "      <td>https://pusdatin.kemkes.go.id/download.php?fil...</td>\n",
              "    </tr>\n",
              "    <tr>\n",
              "      <th>1058</th>\n",
              "      <td>Wabah Penyakit (Epidemi)</td>\n",
              "      <td>Bencana Non Alam dan Penyakit</td>\n",
              "      <td>2017</td>\n",
              "      <td>1</td>\n",
              "      <td>0</td>\n",
              "      <td>Profil Kesehatan Indonesia Tahun 2017</td>\n",
              "      <td>Lampiran 6.43</td>\n",
              "      <td>https://pusdatin.kemkes.go.id/download.php?fil...</td>\n",
              "    </tr>\n",
              "    <tr>\n",
              "      <th>1059</th>\n",
              "      <td>Wabah Penyakit (Epidemi)</td>\n",
              "      <td>Bencana Non Alam dan Penyakit</td>\n",
              "      <td>2019</td>\n",
              "      <td>1</td>\n",
              "      <td>0</td>\n",
              "      <td>Profil Kesehatan Indonesia Tahun 2019</td>\n",
              "      <td>Lampiran 63.c</td>\n",
              "      <td>https://pusdatin.kemkes.go.id/download.php?fil...</td>\n",
              "    </tr>\n",
              "    <tr>\n",
              "      <th>1060</th>\n",
              "      <td>Wabah Penyakit (Epidemi)</td>\n",
              "      <td>Bencana Non Alam dan Penyakit</td>\n",
              "      <td>2020</td>\n",
              "      <td>1</td>\n",
              "      <td>0</td>\n",
              "      <td>Profil Kesehatan Indonesia Tahun 2020</td>\n",
              "      <td>191</td>\n",
              "      <td>https://pusdatin.kemkes.go.id/download.php?fil...</td>\n",
              "    </tr>\n",
              "    <tr>\n",
              "      <th>1061</th>\n",
              "      <td>Wabah Penyakit (Epidemi)</td>\n",
              "      <td>Bencana Non Alam dan Penyakit</td>\n",
              "      <td>2021</td>\n",
              "      <td>1</td>\n",
              "      <td>0</td>\n",
              "      <td>Profil Kesehatan Indonesia Tahun 2021</td>\n",
              "      <td>253</td>\n",
              "      <td>https://www.kemkes.go.id/downloads/resources/d...</td>\n",
              "    </tr>\n",
              "  </tbody>\n",
              "</table>\n",
              "<p>1062 rows × 8 columns</p>\n",
              "</div>\n",
              "      <button class=\"colab-df-convert\" onclick=\"convertToInteractive('df-ec4d5312-6688-439d-9b9b-6e1923cdd23d')\"\n",
              "              title=\"Convert this dataframe to an interactive table.\"\n",
              "              style=\"display:none;\">\n",
              "        \n",
              "  <svg xmlns=\"http://www.w3.org/2000/svg\" height=\"24px\"viewBox=\"0 0 24 24\"\n",
              "       width=\"24px\">\n",
              "    <path d=\"M0 0h24v24H0V0z\" fill=\"none\"/>\n",
              "    <path d=\"M18.56 5.44l.94 2.06.94-2.06 2.06-.94-2.06-.94-.94-2.06-.94 2.06-2.06.94zm-11 1L8.5 8.5l.94-2.06 2.06-.94-2.06-.94L8.5 2.5l-.94 2.06-2.06.94zm10 10l.94 2.06.94-2.06 2.06-.94-2.06-.94-.94-2.06-.94 2.06-2.06.94z\"/><path d=\"M17.41 7.96l-1.37-1.37c-.4-.4-.92-.59-1.43-.59-.52 0-1.04.2-1.43.59L10.3 9.45l-7.72 7.72c-.78.78-.78 2.05 0 2.83L4 21.41c.39.39.9.59 1.41.59.51 0 1.02-.2 1.41-.59l7.78-7.78 2.81-2.81c.8-.78.8-2.07 0-2.86zM5.41 20L4 18.59l7.72-7.72 1.47 1.35L5.41 20z\"/>\n",
              "  </svg>\n",
              "      </button>\n",
              "      \n",
              "  <style>\n",
              "    .colab-df-container {\n",
              "      display:flex;\n",
              "      flex-wrap:wrap;\n",
              "      gap: 12px;\n",
              "    }\n",
              "\n",
              "    .colab-df-convert {\n",
              "      background-color: #E8F0FE;\n",
              "      border: none;\n",
              "      border-radius: 50%;\n",
              "      cursor: pointer;\n",
              "      display: none;\n",
              "      fill: #1967D2;\n",
              "      height: 32px;\n",
              "      padding: 0 0 0 0;\n",
              "      width: 32px;\n",
              "    }\n",
              "\n",
              "    .colab-df-convert:hover {\n",
              "      background-color: #E2EBFA;\n",
              "      box-shadow: 0px 1px 2px rgba(60, 64, 67, 0.3), 0px 1px 3px 1px rgba(60, 64, 67, 0.15);\n",
              "      fill: #174EA6;\n",
              "    }\n",
              "\n",
              "    [theme=dark] .colab-df-convert {\n",
              "      background-color: #3B4455;\n",
              "      fill: #D2E3FC;\n",
              "    }\n",
              "\n",
              "    [theme=dark] .colab-df-convert:hover {\n",
              "      background-color: #434B5C;\n",
              "      box-shadow: 0px 1px 3px 1px rgba(0, 0, 0, 0.15);\n",
              "      filter: drop-shadow(0px 1px 2px rgba(0, 0, 0, 0.3));\n",
              "      fill: #FFFFFF;\n",
              "    }\n",
              "  </style>\n",
              "\n",
              "      <script>\n",
              "        const buttonEl =\n",
              "          document.querySelector('#df-ec4d5312-6688-439d-9b9b-6e1923cdd23d button.colab-df-convert');\n",
              "        buttonEl.style.display =\n",
              "          google.colab.kernel.accessAllowed ? 'block' : 'none';\n",
              "\n",
              "        async function convertToInteractive(key) {\n",
              "          const element = document.querySelector('#df-ec4d5312-6688-439d-9b9b-6e1923cdd23d');\n",
              "          const dataTable =\n",
              "            await google.colab.kernel.invokeFunction('convertToInteractive',\n",
              "                                                     [key], {});\n",
              "          if (!dataTable) return;\n",
              "\n",
              "          const docLinkHtml = 'Like what you see? Visit the ' +\n",
              "            '<a target=\"_blank\" href=https://colab.research.google.com/notebooks/data_table.ipynb>data table notebook</a>'\n",
              "            + ' to learn more about interactive tables.';\n",
              "          element.innerHTML = '';\n",
              "          dataTable['output_type'] = 'display_data';\n",
              "          await google.colab.output.renderOutput(dataTable, element);\n",
              "          const docLink = document.createElement('div');\n",
              "          docLink.innerHTML = docLinkHtml;\n",
              "          element.appendChild(docLink);\n",
              "        }\n",
              "      </script>\n",
              "    </div>\n",
              "  </div>\n",
              "  "
            ]
          },
          "metadata": {},
          "execution_count": 17
        }
      ]
    },
    {
      "cell_type": "code",
      "source": [
        "df3.describe()"
      ],
      "metadata": {
        "colab": {
          "base_uri": "https://localhost:8080/",
          "height": 300
        },
        "id": "TvsYrK981o7k",
        "outputId": "48228d38-112a-4024-e35a-b2b5c6fe8992"
      },
      "execution_count": null,
      "outputs": [
        {
          "output_type": "execute_result",
          "data": {
            "text/plain": [
              "              Year  Data Redundancy   Total Deaths\n",
              "count  1062.000000      1062.000000    1062.000000\n",
              "mean   2010.202448         2.932203    1194.364407\n",
              "std       5.227120         2.776486    6248.983680\n",
              "min    2000.000000         1.000000       0.000000\n",
              "25%    2006.000000         1.000000       6.000000\n",
              "50%    2009.000000         1.000000      42.000000\n",
              "75%    2014.000000         4.000000     261.000000\n",
              "max    2022.000000        12.000000  129171.000000"
            ],
            "text/html": [
              "\n",
              "  <div id=\"df-b9d31d7d-1d29-4fdb-afdc-10f1dd40bbd3\">\n",
              "    <div class=\"colab-df-container\">\n",
              "      <div>\n",
              "<style scoped>\n",
              "    .dataframe tbody tr th:only-of-type {\n",
              "        vertical-align: middle;\n",
              "    }\n",
              "\n",
              "    .dataframe tbody tr th {\n",
              "        vertical-align: top;\n",
              "    }\n",
              "\n",
              "    .dataframe thead th {\n",
              "        text-align: right;\n",
              "    }\n",
              "</style>\n",
              "<table border=\"1\" class=\"dataframe\">\n",
              "  <thead>\n",
              "    <tr style=\"text-align: right;\">\n",
              "      <th></th>\n",
              "      <th>Year</th>\n",
              "      <th>Data Redundancy</th>\n",
              "      <th>Total Deaths</th>\n",
              "    </tr>\n",
              "  </thead>\n",
              "  <tbody>\n",
              "    <tr>\n",
              "      <th>count</th>\n",
              "      <td>1062.000000</td>\n",
              "      <td>1062.000000</td>\n",
              "      <td>1062.000000</td>\n",
              "    </tr>\n",
              "    <tr>\n",
              "      <th>mean</th>\n",
              "      <td>2010.202448</td>\n",
              "      <td>2.932203</td>\n",
              "      <td>1194.364407</td>\n",
              "    </tr>\n",
              "    <tr>\n",
              "      <th>std</th>\n",
              "      <td>5.227120</td>\n",
              "      <td>2.776486</td>\n",
              "      <td>6248.983680</td>\n",
              "    </tr>\n",
              "    <tr>\n",
              "      <th>min</th>\n",
              "      <td>2000.000000</td>\n",
              "      <td>1.000000</td>\n",
              "      <td>0.000000</td>\n",
              "    </tr>\n",
              "    <tr>\n",
              "      <th>25%</th>\n",
              "      <td>2006.000000</td>\n",
              "      <td>1.000000</td>\n",
              "      <td>6.000000</td>\n",
              "    </tr>\n",
              "    <tr>\n",
              "      <th>50%</th>\n",
              "      <td>2009.000000</td>\n",
              "      <td>1.000000</td>\n",
              "      <td>42.000000</td>\n",
              "    </tr>\n",
              "    <tr>\n",
              "      <th>75%</th>\n",
              "      <td>2014.000000</td>\n",
              "      <td>4.000000</td>\n",
              "      <td>261.000000</td>\n",
              "    </tr>\n",
              "    <tr>\n",
              "      <th>max</th>\n",
              "      <td>2022.000000</td>\n",
              "      <td>12.000000</td>\n",
              "      <td>129171.000000</td>\n",
              "    </tr>\n",
              "  </tbody>\n",
              "</table>\n",
              "</div>\n",
              "      <button class=\"colab-df-convert\" onclick=\"convertToInteractive('df-b9d31d7d-1d29-4fdb-afdc-10f1dd40bbd3')\"\n",
              "              title=\"Convert this dataframe to an interactive table.\"\n",
              "              style=\"display:none;\">\n",
              "        \n",
              "  <svg xmlns=\"http://www.w3.org/2000/svg\" height=\"24px\"viewBox=\"0 0 24 24\"\n",
              "       width=\"24px\">\n",
              "    <path d=\"M0 0h24v24H0V0z\" fill=\"none\"/>\n",
              "    <path d=\"M18.56 5.44l.94 2.06.94-2.06 2.06-.94-2.06-.94-.94-2.06-.94 2.06-2.06.94zm-11 1L8.5 8.5l.94-2.06 2.06-.94-2.06-.94L8.5 2.5l-.94 2.06-2.06.94zm10 10l.94 2.06.94-2.06 2.06-.94-2.06-.94-.94-2.06-.94 2.06-2.06.94z\"/><path d=\"M17.41 7.96l-1.37-1.37c-.4-.4-.92-.59-1.43-.59-.52 0-1.04.2-1.43.59L10.3 9.45l-7.72 7.72c-.78.78-.78 2.05 0 2.83L4 21.41c.39.39.9.59 1.41.59.51 0 1.02-.2 1.41-.59l7.78-7.78 2.81-2.81c.8-.78.8-2.07 0-2.86zM5.41 20L4 18.59l7.72-7.72 1.47 1.35L5.41 20z\"/>\n",
              "  </svg>\n",
              "      </button>\n",
              "      \n",
              "  <style>\n",
              "    .colab-df-container {\n",
              "      display:flex;\n",
              "      flex-wrap:wrap;\n",
              "      gap: 12px;\n",
              "    }\n",
              "\n",
              "    .colab-df-convert {\n",
              "      background-color: #E8F0FE;\n",
              "      border: none;\n",
              "      border-radius: 50%;\n",
              "      cursor: pointer;\n",
              "      display: none;\n",
              "      fill: #1967D2;\n",
              "      height: 32px;\n",
              "      padding: 0 0 0 0;\n",
              "      width: 32px;\n",
              "    }\n",
              "\n",
              "    .colab-df-convert:hover {\n",
              "      background-color: #E2EBFA;\n",
              "      box-shadow: 0px 1px 2px rgba(60, 64, 67, 0.3), 0px 1px 3px 1px rgba(60, 64, 67, 0.15);\n",
              "      fill: #174EA6;\n",
              "    }\n",
              "\n",
              "    [theme=dark] .colab-df-convert {\n",
              "      background-color: #3B4455;\n",
              "      fill: #D2E3FC;\n",
              "    }\n",
              "\n",
              "    [theme=dark] .colab-df-convert:hover {\n",
              "      background-color: #434B5C;\n",
              "      box-shadow: 0px 1px 3px 1px rgba(0, 0, 0, 0.15);\n",
              "      filter: drop-shadow(0px 1px 2px rgba(0, 0, 0, 0.3));\n",
              "      fill: #FFFFFF;\n",
              "    }\n",
              "  </style>\n",
              "\n",
              "      <script>\n",
              "        const buttonEl =\n",
              "          document.querySelector('#df-b9d31d7d-1d29-4fdb-afdc-10f1dd40bbd3 button.colab-df-convert');\n",
              "        buttonEl.style.display =\n",
              "          google.colab.kernel.accessAllowed ? 'block' : 'none';\n",
              "\n",
              "        async function convertToInteractive(key) {\n",
              "          const element = document.querySelector('#df-b9d31d7d-1d29-4fdb-afdc-10f1dd40bbd3');\n",
              "          const dataTable =\n",
              "            await google.colab.kernel.invokeFunction('convertToInteractive',\n",
              "                                                     [key], {});\n",
              "          if (!dataTable) return;\n",
              "\n",
              "          const docLinkHtml = 'Like what you see? Visit the ' +\n",
              "            '<a target=\"_blank\" href=https://colab.research.google.com/notebooks/data_table.ipynb>data table notebook</a>'\n",
              "            + ' to learn more about interactive tables.';\n",
              "          element.innerHTML = '';\n",
              "          dataTable['output_type'] = 'display_data';\n",
              "          await google.colab.output.renderOutput(dataTable, element);\n",
              "          const docLink = document.createElement('div');\n",
              "          docLink.innerHTML = docLinkHtml;\n",
              "          element.appendChild(docLink);\n",
              "        }\n",
              "      </script>\n",
              "    </div>\n",
              "  </div>\n",
              "  "
            ]
          },
          "metadata": {},
          "execution_count": 18
        }
      ]
    },
    {
      "cell_type": "markdown",
      "source": [
        "#### Penjelasan Setiap Kolom\n"
      ],
      "metadata": {
        "id": "nB1Ap7fyZoRH"
      }
    },
    {
      "cell_type": "code",
      "source": [
        "df3.info()\n",
        "\n",
        "# Dataset ini memiliki 1062 baris data dan 8 kolom. \n",
        "# Berikut adalah penjelasan untuk masing-masing kolom:\n",
        "\n",
        "# Kolom \"Cause\": kolom ini berisi penyebab dari suatu peristiwa. Kolom ini bertipe data objek (string).\n",
        "# Kolom \"Type\": kolom ini berisi jenis dari suatu peristiwa. Contohnya, apakah peristiwa tersebut adalah bencana alam, kecelakaan lalu lintas, atau kejadian lainnya. Kolom ini bertipe data objek (string).\n",
        "# Kolom \"Year\": kolom ini berisi tahun di mana suatu peristiwa terjadi. Kolom ini bertipe data int64 (integer).\n",
        "# Kolom \"Data Redundancy\": kolom ini berisi informasi mengenai keberadaan data yang redundan (tidak perlu atau berulang). Nilai 0 pada kolom ini menunjukkan bahwa tidak ada data yang redundan, sedangkan nilai 1 menunjukkan bahwa ada data yang redundan. Kolom ini bertipe data int64 (integer).\n",
        "# Kolom \"Total Deaths\": kolom ini berisi jumlah total kematian akibat dari suatu peristiwa. Kolom ini bertipe data int64 (integer).\n",
        "# Kolom \"Source\": kolom ini berisi sumber data dari suatu peristiwa. Kolom ini bertipe data objek (string).\n",
        "# Kolom \"Page at Source\": kolom ini berisi halaman sumber data dari suatu peristiwa. Kolom ini bertipe data objek (string).\n",
        "# Kolom \"Source URL\": kolom ini berisi URL sumber data dari suatu peristiwa. Kolom ini bertipe data objek (string)."
      ],
      "metadata": {
        "colab": {
          "base_uri": "https://localhost:8080/"
        },
        "id": "uw5Bf3iaZrrK",
        "outputId": "087fdba6-a1d6-4371-99d0-b777ea73c8a4"
      },
      "execution_count": null,
      "outputs": [
        {
          "output_type": "stream",
          "name": "stdout",
          "text": [
            "<class 'pandas.core.frame.DataFrame'>\n",
            "RangeIndex: 1062 entries, 0 to 1061\n",
            "Data columns (total 8 columns):\n",
            " #   Column           Non-Null Count  Dtype \n",
            "---  ------           --------------  ----- \n",
            " 0   Cause            1062 non-null   object\n",
            " 1   Type             1062 non-null   object\n",
            " 2   Year             1062 non-null   int64 \n",
            " 3   Data Redundancy  1062 non-null   int64 \n",
            " 4   Total Deaths     1062 non-null   int64 \n",
            " 5   Source           1062 non-null   object\n",
            " 6   Page at Source   1060 non-null   object\n",
            " 7   Source URL       1060 non-null   object\n",
            "dtypes: int64(3), object(5)\n",
            "memory usage: 66.5+ KB\n"
          ]
        }
      ]
    },
    {
      "cell_type": "markdown",
      "source": [
        "#### Visualisasi dan Penjelasan"
      ],
      "metadata": {
        "id": "c9Oep9x8Zt6g"
      }
    },
    {
      "cell_type": "markdown",
      "source": [
        "###### 1. Hubungan antara Jumlah Barang dan Penjualan"
      ],
      "metadata": {
        "id": "NQUvDfzPZyW3"
      }
    },
    {
      "cell_type": "code",
      "source": [
        "import matplotlib.pyplot as plt\n",
        "# Visualize Year distribution using histogram\n",
        "plt.hist(df3['Year'], bins=10)\n",
        "plt.xlabel('Year')\n",
        "plt.ylabel('Count')\n",
        "plt.title('Year Distribution')\n",
        "plt.show()"
      ],
      "metadata": {
        "colab": {
          "base_uri": "https://localhost:8080/",
          "height": 472
        },
        "id": "w927HzzxZ0Gz",
        "outputId": "963c900a-d6da-4f71-ec60-873920851dc4"
      },
      "execution_count": null,
      "outputs": [
        {
          "output_type": "display_data",
          "data": {
            "text/plain": [
              "<Figure size 640x480 with 1 Axes>"
            ],
            "image/png": "[encoded data removed]"
          },
          "metadata": {}
        }
      ]
    },
    {
      "cell_type": "markdown",
      "source": [
        "# Data Preparation"
      ],
      "metadata": {
        "id": "3nKnLnwI1-Bv"
      }
    },
    {
      "cell_type": "markdown",
      "source": [
        "#### Clean Data"
      ],
      "metadata": {
        "id": "b91ApHUSwXRa"
      }
    },
    {
      "cell_type": "code",
      "source": [
        "df3.isna().sum()"
      ],
      "metadata": {
        "colab": {
          "base_uri": "https://localhost:8080/"
        },
        "id": "36FbRKN-2Crq",
        "outputId": "211e0438-88ba-4ba1-d2e7-de2204667a3e"
      },
      "execution_count": null,
      "outputs": [
        {
          "output_type": "execute_result",
          "data": {
            "text/plain": [
              "Cause              0\n",
              "Type               0\n",
              "Year               0\n",
              "Data Redundancy    0\n",
              "Total Deaths       0\n",
              "Source             0\n",
              "Page at Source     2\n",
              "Source URL         2\n",
              "dtype: int64"
            ]
          },
          "metadata": {},
          "execution_count": 22
        }
      ]
    },
    {
      "cell_type": "markdown",
      "source": [
        "#### Data Reduction"
      ],
      "metadata": {
        "id": "RwEVKlg5wzF0"
      }
    },
    {
      "cell_type": "code",
      "source": [
        "df3.drop(columns=[\"Cause\"])"
      ],
      "metadata": {
        "colab": {
          "base_uri": "https://localhost:8080/",
          "height": 423
        },
        "id": "8gZOM42R2IA3",
        "outputId": "3474e5c0-c50a-4fee-e5f0-63d1d3684990"
      },
      "execution_count": null,
      "outputs": [
        {
          "output_type": "execute_result",
          "data": {
            "text/plain": [
              "                               Type  Year  Data Redundancy  Total Deaths                                 Source Page at Source                                         Source URL\n",
              "0                      Bencana Alam  2012                1             0  Profil Kesehatan Indonesia Tahun 2012  Lampiran 3.38  https://pusdatin.kemkes.go.id/download.php?fil...\n",
              "1     Bencana Non Alam dan Penyakit  2000                1            47  Profil Kesehatan Indonesia Tahun 2004             78  https://pusdatin.kemkes.go.id/download.php?fil...\n",
              "2     Bencana Non Alam dan Penyakit  2001                1            99  Profil Kesehatan Indonesia Tahun 2004             78  https://pusdatin.kemkes.go.id/download.php?fil...\n",
              "3     Bencana Non Alam dan Penyakit  2002                1           100  Profil Kesehatan Indonesia Tahun 2004             78  https://pusdatin.kemkes.go.id/download.php?fil...\n",
              "4     Bencana Non Alam dan Penyakit  2003                5           261  Profil Kesehatan Indonesia Tahun 2004             78  https://pusdatin.kemkes.go.id/download.php?fil...\n",
              "...                             ...   ...              ...           ...                                    ...            ...                                                ...\n",
              "1057  Bencana Non Alam dan Penyakit  2016                1             0  Profil Kesehatan Indonesia Tahun 2016  Lampiran 6.37  https://pusdatin.kemkes.go.id/download.php?fil...\n",
              "1058  Bencana Non Alam dan Penyakit  2017                1             0  Profil Kesehatan Indonesia Tahun 2017  Lampiran 6.43  https://pusdatin.kemkes.go.id/download.php?fil...\n",
              "1059  Bencana Non Alam dan Penyakit  2019                1             0  Profil Kesehatan Indonesia Tahun 2019  Lampiran 63.c  https://pusdatin.kemkes.go.id/download.php?fil...\n",
              "1060  Bencana Non Alam dan Penyakit  2020                1             0  Profil Kesehatan Indonesia Tahun 2020            191  https://pusdatin.kemkes.go.id/download.php?fil...\n",
              "1061  Bencana Non Alam dan Penyakit  2021                1             0  Profil Kesehatan Indonesia Tahun 2021            253  https://www.kemkes.go.id/downloads/resources/d...\n",
              "\n",
              "[1062 rows x 7 columns]"
            ],
            "text/html": [
              "\n",
              "  <div id=\"df-538c1ea0-564f-4e1a-b882-57b24adf2e8d\">\n",
              "    <div class=\"colab-df-container\">\n",
              "      <div>\n",
              "<style scoped>\n",
              "    .dataframe tbody tr th:only-of-type {\n",
              "        vertical-align: middle;\n",
              "    }\n",
              "\n",
              "    .dataframe tbody tr th {\n",
              "        vertical-align: top;\n",
              "    }\n",
              "\n",
              "    .dataframe thead th {\n",
              "        text-align: right;\n",
              "    }\n",
              "</style>\n",
              "<table border=\"1\" class=\"dataframe\">\n",
              "  <thead>\n",
              "    <tr style=\"text-align: right;\">\n",
              "      <th></th>\n",
              "      <th>Type</th>\n",
              "      <th>Year</th>\n",
              "      <th>Data Redundancy</th>\n",
              "      <th>Total Deaths</th>\n",
              "      <th>Source</th>\n",
              "      <th>Page at Source</th>\n",
              "      <th>Source URL</th>\n",
              "    </tr>\n",
              "  </thead>\n",
              "  <tbody>\n",
              "    <tr>\n",
              "      <th>0</th>\n",
              "      <td>Bencana Alam</td>\n",
              "      <td>2012</td>\n",
              "      <td>1</td>\n",
              "      <td>0</td>\n",
              "      <td>Profil Kesehatan Indonesia Tahun 2012</td>\n",
              "      <td>Lampiran 3.38</td>\n",
              "      <td>https://pusdatin.kemkes.go.id/download.php?fil...</td>\n",
              "    </tr>\n",
              "    <tr>\n",
              "      <th>1</th>\n",
              "      <td>Bencana Non Alam dan Penyakit</td>\n",
              "      <td>2000</td>\n",
              "      <td>1</td>\n",
              "      <td>47</td>\n",
              "      <td>Profil Kesehatan Indonesia Tahun 2004</td>\n",
              "      <td>78</td>\n",
              "      <td>https://pusdatin.kemkes.go.id/download.php?fil...</td>\n",
              "    </tr>\n",
              "    <tr>\n",
              "      <th>2</th>\n",
              "      <td>Bencana Non Alam dan Penyakit</td>\n",
              "      <td>2001</td>\n",
              "      <td>1</td>\n",
              "      <td>99</td>\n",
              "      <td>Profil Kesehatan Indonesia Tahun 2004</td>\n",
              "      <td>78</td>\n",
              "      <td>https://pusdatin.kemkes.go.id/download.php?fil...</td>\n",
              "    </tr>\n",
              "    <tr>\n",
              "      <th>3</th>\n",
              "      <td>Bencana Non Alam dan Penyakit</td>\n",
              "      <td>2002</td>\n",
              "      <td>1</td>\n",
              "      <td>100</td>\n",
              "      <td>Profil Kesehatan Indonesia Tahun 2004</td>\n",
              "      <td>78</td>\n",
              "      <td>https://pusdatin.kemkes.go.id/download.php?fil...</td>\n",
              "    </tr>\n",
              "    <tr>\n",
              "      <th>4</th>\n",
              "      <td>Bencana Non Alam dan Penyakit</td>\n",
              "      <td>2003</td>\n",
              "      <td>5</td>\n",
              "      <td>261</td>\n",
              "      <td>Profil Kesehatan Indonesia Tahun 2004</td>\n",
              "      <td>78</td>\n",
              "      <td>https://pusdatin.kemkes.go.id/download.php?fil...</td>\n",
              "    </tr>\n",
              "    <tr>\n",
              "      <th>...</th>\n",
              "      <td>...</td>\n",
              "      <td>...</td>\n",
              "      <td>...</td>\n",
              "      <td>...</td>\n",
              "      <td>...</td>\n",
              "      <td>...</td>\n",
              "      <td>...</td>\n",
              "    </tr>\n",
              "    <tr>\n",
              "      <th>1057</th>\n",
              "      <td>Bencana Non Alam dan Penyakit</td>\n",
              "      <td>2016</td>\n",
              "      <td>1</td>\n",
              "      <td>0</td>\n",
              "      <td>Profil Kesehatan Indonesia Tahun 2016</td>\n",
              "      <td>Lampiran 6.37</td>\n",
              "      <td>https://pusdatin.kemkes.go.id/download.php?fil...</td>\n",
              "    </tr>\n",
              "    <tr>\n",
              "      <th>1058</th>\n",
              "      <td>Bencana Non Alam dan Penyakit</td>\n",
              "      <td>2017</td>\n",
              "      <td>1</td>\n",
              "      <td>0</td>\n",
              "      <td>Profil Kesehatan Indonesia Tahun 2017</td>\n",
              "      <td>Lampiran 6.43</td>\n",
              "      <td>https://pusdatin.kemkes.go.id/download.php?fil...</td>\n",
              "    </tr>\n",
              "    <tr>\n",
              "      <th>1059</th>\n",
              "      <td>Bencana Non Alam dan Penyakit</td>\n",
              "      <td>2019</td>\n",
              "      <td>1</td>\n",
              "      <td>0</td>\n",
              "      <td>Profil Kesehatan Indonesia Tahun 2019</td>\n",
              "      <td>Lampiran 63.c</td>\n",
              "      <td>https://pusdatin.kemkes.go.id/download.php?fil...</td>\n",
              "    </tr>\n",
              "    <tr>\n",
              "      <th>1060</th>\n",
              "      <td>Bencana Non Alam dan Penyakit</td>\n",
              "      <td>2020</td>\n",
              "      <td>1</td>\n",
              "      <td>0</td>\n",
              "      <td>Profil Kesehatan Indonesia Tahun 2020</td>\n",
              "      <td>191</td>\n",
              "      <td>https://pusdatin.kemkes.go.id/download.php?fil...</td>\n",
              "    </tr>\n",
              "    <tr>\n",
              "      <th>1061</th>\n",
              "      <td>Bencana Non Alam dan Penyakit</td>\n",
              "      <td>2021</td>\n",
              "      <td>1</td>\n",
              "      <td>0</td>\n",
              "      <td>Profil Kesehatan Indonesia Tahun 2021</td>\n",
              "      <td>253</td>\n",
              "      <td>https://www.kemkes.go.id/downloads/resources/d...</td>\n",
              "    </tr>\n",
              "  </tbody>\n",
              "</table>\n",
              "<p>1062 rows × 7 columns</p>\n",
              "</div>\n",
              "      <button class=\"colab-df-convert\" onclick=\"convertToInteractive('df-538c1ea0-564f-4e1a-b882-57b24adf2e8d')\"\n",
              "              title=\"Convert this dataframe to an interactive table.\"\n",
              "              style=\"display:none;\">\n",
              "        \n",
              "  <svg xmlns=\"http://www.w3.org/2000/svg\" height=\"24px\"viewBox=\"0 0 24 24\"\n",
              "       width=\"24px\">\n",
              "    <path d=\"M0 0h24v24H0V0z\" fill=\"none\"/>\n",
              "    <path d=\"M18.56 5.44l.94 2.06.94-2.06 2.06-.94-2.06-.94-.94-2.06-.94 2.06-2.06.94zm-11 1L8.5 8.5l.94-2.06 2.06-.94-2.06-.94L8.5 2.5l-.94 2.06-2.06.94zm10 10l.94 2.06.94-2.06 2.06-.94-2.06-.94-.94-2.06-.94 2.06-2.06.94z\"/><path d=\"M17.41 7.96l-1.37-1.37c-.4-.4-.92-.59-1.43-.59-.52 0-1.04.2-1.43.59L10.3 9.45l-7.72 7.72c-.78.78-.78 2.05 0 2.83L4 21.41c.39.39.9.59 1.41.59.51 0 1.02-.2 1.41-.59l7.78-7.78 2.81-2.81c.8-.78.8-2.07 0-2.86zM5.41 20L4 18.59l7.72-7.72 1.47 1.35L5.41 20z\"/>\n",
              "  </svg>\n",
              "      </button>\n",
              "      \n",
              "  <style>\n",
              "    .colab-df-container {\n",
              "      display:flex;\n",
              "      flex-wrap:wrap;\n",
              "      gap: 12px;\n",
              "    }\n",
              "\n",
              "    .colab-df-convert {\n",
              "      background-color: #E8F0FE;\n",
              "      border: none;\n",
              "      border-radius: 50%;\n",
              "      cursor: pointer;\n",
              "      display: none;\n",
              "      fill: #1967D2;\n",
              "      height: 32px;\n",
              "      padding: 0 0 0 0;\n",
              "      width: 32px;\n",
              "    }\n",
              "\n",
              "    .colab-df-convert:hover {\n",
              "      background-color: #E2EBFA;\n",
              "      box-shadow: 0px 1px 2px rgba(60, 64, 67, 0.3), 0px 1px 3px 1px rgba(60, 64, 67, 0.15);\n",
              "      fill: #174EA6;\n",
              "    }\n",
              "\n",
              "    [theme=dark] .colab-df-convert {\n",
              "      background-color: #3B4455;\n",
              "      fill: #D2E3FC;\n",
              "    }\n",
              "\n",
              "    [theme=dark] .colab-df-convert:hover {\n",
              "      background-color: #434B5C;\n",
              "      box-shadow: 0px 1px 3px 1px rgba(0, 0, 0, 0.15);\n",
              "      filter: drop-shadow(0px 1px 2px rgba(0, 0, 0, 0.3));\n",
              "      fill: #FFFFFF;\n",
              "    }\n",
              "  </style>\n",
              "\n",
              "      <script>\n",
              "        const buttonEl =\n",
              "          document.querySelector('#df-538c1ea0-564f-4e1a-b882-57b24adf2e8d button.colab-df-convert');\n",
              "        buttonEl.style.display =\n",
              "          google.colab.kernel.accessAllowed ? 'block' : 'none';\n",
              "\n",
              "        async function convertToInteractive(key) {\n",
              "          const element = document.querySelector('#df-538c1ea0-564f-4e1a-b882-57b24adf2e8d');\n",
              "          const dataTable =\n",
              "            await google.colab.kernel.invokeFunction('convertToInteractive',\n",
              "                                                     [key], {});\n",
              "          if (!dataTable) return;\n",
              "\n",
              "          const docLinkHtml = 'Like what you see? Visit the ' +\n",
              "            '<a target=\"_blank\" href=https://colab.research.google.com/notebooks/data_table.ipynb>data table notebook</a>'\n",
              "            + ' to learn more about interactive tables.';\n",
              "          element.innerHTML = '';\n",
              "          dataTable['output_type'] = 'display_data';\n",
              "          await google.colab.output.renderOutput(dataTable, element);\n",
              "          const docLink = document.createElement('div');\n",
              "          docLink.innerHTML = docLinkHtml;\n",
              "          element.appendChild(docLink);\n",
              "        }\n",
              "      </script>\n",
              "    </div>\n",
              "  </div>\n",
              "  "
            ]
          },
          "metadata": {},
          "execution_count": 24
        }
      ]
    }
  ]
}